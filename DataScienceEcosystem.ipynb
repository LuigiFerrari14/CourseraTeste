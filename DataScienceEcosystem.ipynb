{
  "nbformat": 4,
  "nbformat_minor": 0,
  "metadata": {
    "colab": {
      "provenance": [],
      "authorship_tag": "ABX9TyOSVuGroqvU+vv9wscUPakC",
      "include_colab_link": true
    },
    "kernelspec": {
      "name": "python3",
      "display_name": "Python 3"
    },
    "language_info": {
      "name": "python"
    }
  },
  "cells": [
    {
      "cell_type": "markdown",
      "metadata": {
        "id": "view-in-github",
        "colab_type": "text"
      },
      "source": [
        "<a href=\"https://colab.research.google.com/github/LuigiFerrari14/CourseraTeste/blob/main/DataScienceEcosystem.ipynb\" target=\"_parent\"><img src=\"https://colab.research.google.com/assets/colab-badge.svg\" alt=\"Open In Colab\"/></a>"
      ]
    },
    {
      "cell_type": "code",
      "execution_count": null,
      "metadata": {
        "id": "SyjPCGisr3UR"
      },
      "outputs": [],
      "source": []
    },
    {
      "cell_type": "code",
      "source": [
        "print('Final Assignment, but on colab because i cant use jupter right now')"
      ],
      "metadata": {
        "colab": {
          "base_uri": "https://localhost:8080/"
        },
        "id": "BM0LG1gDr5eL",
        "outputId": "e8239399-3564-40f0-86ef-24a8ddbc61f5"
      },
      "execution_count": null,
      "outputs": [
        {
          "output_type": "stream",
          "name": "stdout",
          "text": [
            "Final Assignment, but on colab because i cant use jupter right now\n"
          ]
        }
      ]
    },
    {
      "cell_type": "markdown",
      "source": [
        "In this notebook, Data Science Tools and Ecosystem are summarized.\n"
      ],
      "metadata": {
        "id": "d-fwaL0xxKiK"
      }
    },
    {
      "cell_type": "code",
      "source": [
        "#4-dslanguages.png\n",
        "\n",
        "print('Python')\n",
        "print('R')\n",
        "print('SQL')"
      ],
      "metadata": {
        "id": "hxmuASOlsv1q"
      },
      "execution_count": null,
      "outputs": []
    },
    {
      "cell_type": "code",
      "source": [
        "#5-dslibraries.png\n",
        "\n",
        "print('Pandas')\n",
        "print('scikit-learn')\n",
        "print('Matplotlib')"
      ],
      "metadata": {
        "colab": {
          "base_uri": "https://localhost:8080/"
        },
        "id": "gRNFTbi2tOPP",
        "outputId": "e97972fa-188e-4821-95d2-9c2225c8410d"
      },
      "execution_count": null,
      "outputs": [
        {
          "output_type": "stream",
          "name": "stdout",
          "text": [
            "\n",
            "\n"
          ]
        }
      ]
    },
    {
      "cell_type": "code",
      "source": [
        "#6-dstools.png\n",
        "\n",
        "print('Jupterlab')\n",
        "print('google colab')\n",
        "print('RStudio')"
      ],
      "metadata": {
        "colab": {
          "base_uri": "https://localhost:8080/"
        },
        "id": "IvNeKSx_t1jc",
        "outputId": "4b8533d5-dd70-4d4a-cec2-8021bebf1554"
      },
      "execution_count": null,
      "outputs": [
        {
          "output_type": "stream",
          "name": "stdout",
          "text": [
            "Jupterlab\n",
            "google colab\n",
            "RStudio\n"
          ]
        }
      ]
    },
    {
      "cell_type": "markdown",
      "source": [
        "Below are a few examples of evaluating arithmetic expressions in Python.\n"
      ],
      "metadata": {
        "id": "Q5iU3A7Yxt00"
      }
    },
    {
      "cell_type": "code",
      "source": [
        "#This a simple arithmetic expression to mutiply then add integers\n",
        "question = (3*4)+5\n",
        "print(question)"
      ],
      "metadata": {
        "colab": {
          "base_uri": "https://localhost:8080/"
        },
        "id": "0o1Zm05UuruK",
        "outputId": "16f7a48e-1896-45c5-cbf7-1384e25a1f9c"
      },
      "execution_count": null,
      "outputs": [
        {
          "output_type": "stream",
          "name": "stdout",
          "text": [
            "17\n"
          ]
        }
      ]
    },
    {
      "cell_type": "code",
      "source": [
        "#9-hourstominutes.png\n",
        "mintohour = 200/60\n",
        "print(mintohour)\n"
      ],
      "metadata": {
        "colab": {
          "base_uri": "https://localhost:8080/"
        },
        "id": "grMNPehOvFen",
        "outputId": "9f24642d-3dfc-4366-e892-57d8e0dc80ce"
      },
      "execution_count": null,
      "outputs": [
        {
          "output_type": "stream",
          "name": "stdout",
          "text": [
            "3.3333333333333335\n"
          ]
        }
      ]
    },
    {
      "cell_type": "markdown",
      "source": [
        "Objectives:"
      ],
      "metadata": {
        "id": "m2D1jyPUybi5"
      }
    },
    {
      "cell_type": "markdown",
      "source": [
        "\n",
        "\n",
        "1.   List popular languages for Data Science\n",
        "2.   Some of the commonly used libraries used by Data Scientists\n",
        "3.   Data Science Tools\n",
        "\n",
        "\n"
      ],
      "metadata": {
        "id": "qxdoy1-EydAF"
      }
    },
    {
      "cell_type": "code",
      "source": [],
      "metadata": {
        "id": "_21DKzPPzGgI"
      },
      "execution_count": null,
      "outputs": []
    },
    {
      "cell_type": "markdown",
      "source": [
        "# Author:\n",
        "Luigi Silva Ferrari"
      ],
      "metadata": {
        "id": "4KNeUxAwzYCC"
      }
    },
    {
      "cell_type": "code",
      "source": [],
      "metadata": {
        "id": "msA4XRO4zb1L"
      },
      "execution_count": null,
      "outputs": []
    }
  ]
}